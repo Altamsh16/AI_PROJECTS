{
 "cells": [
  {
   "cell_type": "code",
   "execution_count": 1,
   "id": "10d486b2",
   "metadata": {},
   "outputs": [
    {
     "name": "stdout",
     "output_type": "stream",
     "text": [
      "Requirement already satisfied: pyzbar in c:\\users\\altug\\appdata\\local\\packages\\pythonsoftwarefoundation.python.3.11_qbz5n2kfra8p0\\localcache\\local-packages\\python311\\site-packages (0.1.9)Note: you may need to restart the kernel to use updated packages.\n",
      "\n"
     ]
    }
   ],
   "source": [
    "pip install pyzbar"
   ]
  },
  {
   "cell_type": "code",
   "execution_count": 1,
   "id": "aec71247",
   "metadata": {},
   "outputs": [
    {
     "name": "stdout",
     "output_type": "stream",
     "text": [
      "b'9300633929169'\n",
      "EAN13\n"
     ]
    }
   ],
   "source": [
    "# Importing library \n",
    "import cv2 \n",
    "from pyzbar.pyzbar import decode \n",
    "\n",
    "# Make one method to decode the barcode \n",
    "def BarcodeReader(image): \n",
    "\t\n",
    "\t# read the image in numpy array using cv2 \n",
    "\timg = cv2.imread(image) \n",
    "\t\n",
    "\t# Decode the barcode image \n",
    "\tdetectedBarcodes = decode(img) \n",
    "\t\n",
    "\t# If not detected then print the message \n",
    "\tif not detectedBarcodes: \n",
    "\t\tprint(\"Barcode Not Detected or your barcode is blank/corrupted!\") \n",
    "\telse: \n",
    "\t\t\n",
    "\t\t# Traverse through all the detected barcodes in image \n",
    "\t\tfor barcode in detectedBarcodes: \n",
    "\t\t\t\n",
    "\t\t\t# Locate the barcode position in image \n",
    "\t\t\t(x, y, w, h) = barcode.rect \n",
    "\t\t\t\n",
    "\t\t\t# Put the rectangle in image using \n",
    "\t\t\t# cv2 to highlight the barcode \n",
    "\t\t\tcv2.rectangle(img, (x-10, y-10), \n",
    "\t\t\t\t\t\t(x + w+10, y + h+10), \n",
    "\t\t\t\t\t\t(255, 0, 0), 2) \n",
    "\t\t\t\n",
    "\t\t\tif barcode.data!=\"\": \n",
    "\t\t\t\t\n",
    "\t\t\t# Print the barcode data \n",
    "\t\t\t\tprint(barcode.data) \n",
    "\t\t\t\tprint(barcode.type) \n",
    "\t\t\t\t\n",
    "\t#Display the image \n",
    "\tcv2.imshow(\"Image\", img) \n",
    "\tcv2.waitKey(0) \n",
    "\tcv2.destroyAllWindows() \n",
    "\n",
    "if __name__ == \"__main__\": \n",
    "# Take the image from user \n",
    "\timage=\"C:\\\\Users\\\\altug\\\\Downloads\\\\barcode1.jpeg\"\n",
    "\tBarcodeReader(image) \n"
   ]
  },
  {
   "cell_type": "code",
   "execution_count": 9,
   "id": "5398c242",
   "metadata": {},
   "outputs": [
    {
     "name": "stdout",
     "output_type": "stream",
     "text": [
      "b'8901058842722'\n",
      "EAN13\n"
     ]
    }
   ],
   "source": [
    "# Importing library \n",
    "import cv2 \n",
    "from pyzbar.pyzbar import decode \n",
    "\n",
    "# Make one method to decode the barcode \n",
    "def BarcodeReader(image): \n",
    "\t\n",
    "\t# read the image in numpy array using cv2 \n",
    "\timg = cv2.imread(image) \n",
    "\t\n",
    "\t# Decode the barcode image \n",
    "\tdetectedBarcodes = decode(img) \n",
    "\t\n",
    "\t# If not detected then print the message \n",
    "\tif not detectedBarcodes: \n",
    "\t\tprint(\"Barcode Not Detected or your barcode is blank/corrupted!\") \n",
    "\telse: \n",
    "\t\t\n",
    "\t\t# Traverse through all the detected barcodes in image \n",
    "\t\tfor barcode in detectedBarcodes: \n",
    "\t\t\t\n",
    "\t\t\t# Locate the barcode position in image \n",
    "\t\t\t(x, y, w, h) = barcode.rect \n",
    "\t\t\t\n",
    "\t\t\t# Put the rectangle in image using \n",
    "\t\t\t# cv2 to highlight the barcode \n",
    "\t\t\tcv2.rectangle(img, (x-10, y-10), \n",
    "\t\t\t\t\t\t(x + w+10, y + h+10), \n",
    "\t\t\t\t\t\t(255, 0, 0), 2) \n",
    "\t\t\t\n",
    "\t\t\tif barcode.data!=\"\": \n",
    "\t\t\t\t\n",
    "\t\t\t# Print the barcode data \n",
    "\t\t\t\tprint(barcode.data) \n",
    "\t\t\t\tprint(barcode.type) \n",
    "\t\t\t\t\n",
    "\t#Display the image \n",
    "\tcv2.imshow(\"Image\", img) \n",
    "\tcv2.waitKey(0) \n",
    "\tcv2.destroyAllWindows() \n",
    "\n",
    "if __name__ == \"__main__\": \n",
    "# Take the image from user \n",
    "\timage=\"C:\\\\Users\\\\altug\\\\Downloads\\\\barcode3.jpeg\"\n",
    "\tBarcodeReader(image) \n"
   ]
  }
 ],
 "metadata": {
  "kernelspec": {
   "display_name": "Python 3 (ipykernel)",
   "language": "python",
   "name": "python3"
  },
  "language_info": {
   "codemirror_mode": {
    "name": "ipython",
    "version": 3
   },
   "file_extension": ".py",
   "mimetype": "text/x-python",
   "name": "python",
   "nbconvert_exporter": "python",
   "pygments_lexer": "ipython3",
   "version": "3.11.9"
  }
 },
 "nbformat": 4,
 "nbformat_minor": 5
}
