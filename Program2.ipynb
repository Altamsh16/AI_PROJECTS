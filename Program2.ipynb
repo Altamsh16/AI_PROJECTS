{
  "nbformat": 4,
  "nbformat_minor": 0,
  "metadata": {
    "colab": {
      "provenance": [],
      "authorship_tag": "ABX9TyOBXw3DJxm0m5Ef8yV1vkeh",
      "include_colab_link": true
    },
    "kernelspec": {
      "name": "python3",
      "display_name": "Python 3"
    },
    "language_info": {
      "name": "python"
    }
  },
  "cells": [
    {
      "cell_type": "markdown",
      "metadata": {
        "id": "view-in-github",
        "colab_type": "text"
      },
      "source": [
        "<a href=\"https://colab.research.google.com/github/Altamsh16/AI_PROJECTS/blob/main/Program2.ipynb\" target=\"_parent\"><img src=\"https://colab.research.google.com/assets/colab-badge.svg\" alt=\"Open In Colab\"/></a>"
      ]
    },
    {
      "cell_type": "code",
      "execution_count": 2,
      "metadata": {
        "colab": {
          "base_uri": "https://localhost:8080/"
        },
        "id": "CBujj1mUXVv7",
        "outputId": "4fe22242-29db-4702-c073-7b2d72811387"
      },
      "outputs": [
        {
          "output_type": "stream",
          "name": "stdout",
          "text": [
            "Testing XOR Logic Function:\n",
            "0 XOR 0 = 0\n",
            "0 XOR 1 = 0\n",
            "1 XOR 0 = 0\n",
            "1 XOR 1 = 0\n",
            "\n",
            "Testing AND NOT Logic Function:\n",
            "AND NOT (0, 0) = 1\n",
            "AND NOT (0, 1) = 0\n",
            "AND NOT (1, 0) = 0\n",
            "AND NOT (1, 1) = 0\n"
          ]
        }
      ],
      "source": [
        "import numpy as np\n",
        "\n",
        "# McCulloch-Pitts (M-P) neuron model implementation\n",
        "class McCullochPittsNeuron:\n",
        "    def __init__(self, weights, threshold):\n",
        "        self.weights = np.array(weights)\n",
        "        self.threshold = threshold\n",
        "\n",
        "    def activate(self, inputs):\n",
        "        # Compute the weighted sum of inputs\n",
        "        weighted_sum = np.dot(inputs, self.weights)\n",
        "\n",
        "        # Apply threshold activation function (Heaviside step function)\n",
        "        if weighted_sum >= self.threshold:\n",
        "            return 1\n",
        "        else:\n",
        "            return 0\n",
        "\n",
        "# Define logical functions for XOR and AND NOT\n",
        "def logical_xor(x1, x2):\n",
        "    neuron1 = McCullochPittsNeuron(weights=[1, 1], threshold=1.5)\n",
        "    neuron2 = McCullochPittsNeuron(weights=[-1, -1], threshold=-0.5)\n",
        "\n",
        "    h1 = neuron1.activate([x1, x2])\n",
        "    h2 = neuron2.activate([x1, x2])\n",
        "\n",
        "    return neuron1.activate([h1, h2])\n",
        "\n",
        "def logical_and_not(x1, x2):\n",
        "    neuron1 = McCullochPittsNeuron(weights=[-1, -1], threshold=-0.5)\n",
        "\n",
        "    h1 = neuron1.activate([x1, x2])\n",
        "\n",
        "    return h1\n",
        "\n",
        "# Test the McCulloch-Pitts neuron implementation for XOR and AND NOT\n",
        "def test_logic_functions():\n",
        "    print(\"Testing XOR Logic Function:\")\n",
        "    print(\"0 XOR 0 =\", logical_xor(0, 0))\n",
        "    print(\"0 XOR 1 =\", logical_xor(0, 1))\n",
        "    print(\"1 XOR 0 =\", logical_xor(1, 0))\n",
        "    print(\"1 XOR 1 =\", logical_xor(1, 1))\n",
        "\n",
        "    print(\"\\nTesting AND NOT Logic Function:\")\n",
        "    print(\"AND NOT (0, 0) =\", logical_and_not(0, 0))\n",
        "    print(\"AND NOT (0, 1) =\", logical_and_not(0, 1))\n",
        "    print(\"AND NOT (1, 0) =\", logical_and_not(1, 0))\n",
        "    print(\"AND NOT (1, 1) =\", logical_and_not(1, 1))\n",
        "\n",
        "# Run the test to demonstrate the logic functions\n",
        "test_logic_functions()\n",
        "\n"
      ]
    }
  ]
}